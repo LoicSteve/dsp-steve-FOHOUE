{
 "cells": [
  {
   "cell_type": "code",
   "execution_count": 3,
   "id": "553b3a7e",
   "metadata": {},
   "outputs": [],
   "source": [
    "import numpy as np\n",
    "import pandas as pd\n",
    "import joblib\n",
    "\n",
    "\n",
    "def preprocess_data(data: pd.DataFrame) -> pd.DataFrame:\n",
    "    encoder = joblib.load('../models/encoder.joblib')\n",
    "    scaler = joblib.load('../models/scaler.joblib')\n",
    "    continuous_features = [\"LotArea\", \"GrLivArea\"]\n",
    "    categorical_features = [\"MSZoning\", \"Neighborhood\"]\n",
    "    data[continuous_features] = scaler.transform(data[continuous_features])\n",
    "    data_processed = encoder.transform(data[categorical_features])\n",
    "\n",
    "    return np.hstack((data[continuous_features], data_processed.toarray()))\n"
   ]
  },
  {
   "cell_type": "code",
   "execution_count": null,
   "id": "cb3d0868",
   "metadata": {},
   "outputs": [],
   "source": []
  }
 ],
 "metadata": {
  "kernelspec": {
   "display_name": "Python 3 (ipykernel)",
   "language": "python",
   "name": "python3"
  },
  "language_info": {
   "codemirror_mode": {
    "name": "ipython",
    "version": 3
   },
   "file_extension": ".py",
   "mimetype": "text/x-python",
   "name": "python",
   "nbconvert_exporter": "python",
   "pygments_lexer": "ipython3",
   "version": "3.10.8"
  }
 },
 "nbformat": 4,
 "nbformat_minor": 5
}
