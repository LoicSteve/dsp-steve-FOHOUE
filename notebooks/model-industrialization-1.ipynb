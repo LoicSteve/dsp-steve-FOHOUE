{
 "cells": [
  {
   "cell_type": "code",
   "execution_count": 1,
   "id": "a04bc402",
   "metadata": {},
   "outputs": [],
   "source": [
    "import numpy as np\n",
    "import pandas as pd\n",
    "from sklearn.preprocessing import StandardScaler, OneHotEncoder\n",
    "from sklearn.impute import SimpleImputer\n",
    "from sklearn.model_selection import train_test_split\n",
    "from sklearn.linear_model import LinearRegression\n",
    "from sklearn.metrics import mean_squared_error\n",
    "from math import sqrt\n",
    "from sklearn.metrics import mean_squared_error, mean_squared_log_error"
   ]
  },
  {
   "cell_type": "code",
   "execution_count": 2,
   "id": "0fbc97db",
   "metadata": {},
   "outputs": [
    {
     "name": "stdout",
     "output_type": "stream",
     "text": [
      "RMSE: 42645.40610193754\n",
      "RMSLE: 0.02\n"
     ]
    }
   ],
   "source": [
    "### Model building\n",
    "## Model training\n",
    "train_data = pd.read_csv('/Users/admin-20218/Downloads/house-prices-advanced-regression-techniques/train.csv')\n",
    "X_train = train_data.drop([\"Id\", \"SalePrice\"], axis=1)\n",
    "y_train = train_data[\"SalePrice\"]\n",
    "X_train, X_test, y_train, y_test = train_test_split(X_train, y_train, test_size=0.2, random_state=42)\n",
    "\n",
    "continuous_features = [\"LotArea\", \"GrLivArea\"]\n",
    "categorical_features = [\"MSZoning\", \"Neighborhood\"] \n",
    "\n",
    "scaler = StandardScaler()\n",
    "encoder = OneHotEncoder(handle_unknown=\"ignore\")\n",
    "scaler.fit(X_train[continuous_features])\n",
    "X_train[continuous_features] = scaler.transform(X_train[continuous_features])\n",
    "#X_test[continuous_features] = scaler.transform(X_test[continuous_features])\n",
    "#X_test[continuous_features] = scaler.transform(X_test[continuous_features])\n",
    "encoder.fit(X_train[categorical_features])\n",
    "X_train_processed = encoder.transform(X_train[categorical_features])\n",
    "#X_test_processed = encoder.transform(X_test[categorical_features])\n",
    "#X_test_processed = encoder.transform(X_test[categorical_features])\n",
    "\n",
    "model = LinearRegression()\n",
    "model.fit(np.hstack((X_train[continuous_features], X_train_processed.toarray())), y_train)\n",
    "\n",
    "## Model evaluation\n",
    "\n",
    "# Preprocessing and feature engineering of the test set\n",
    "X_test[continuous_features] = scaler.transform(X_test[continuous_features])\n",
    "X_test_processed = encoder.transform(X_test[categorical_features])\n",
    "\n",
    "# Model predictions on the test set\n",
    "#y_pred = model.predict(X_test_processed)\n",
    "y_pred = model.predict(np.hstack((X_test[continuous_features], X_test_processed.toarray())))\n",
    "\n",
    "def compute_rmsle(y_test: np.ndarray, y_pred: np.ndarray, precision: int = 2) -> float:\n",
    "    rmsle = np.sqrt(mean_squared_log_error(y_test, y_pred))\n",
    "    return round(rmsle, precision)\n",
    "\n",
    "#y_pred = model.predict(np.hstack((X_test[continuous_features], X_test_processed.toarray())))\n",
    "rmse = sqrt(mean_squared_error(y_test, y_pred))\n",
    "rmsle = compute_rmsle(np.log(y_test), np.log(y_pred))\n",
    "print(\"RMSE:\", rmse)\n",
    "print(\"RMSLE:\", rmsle)\n",
    "\n"
   ]
  },
  {
   "cell_type": "code",
   "execution_count": 3,
   "id": "6d5af199",
   "metadata": {},
   "outputs": [
    {
     "data": {
      "text/plain": [
       "['../models/scaler.joblib']"
      ]
     },
     "execution_count": 3,
     "metadata": {},
     "output_type": "execute_result"
    }
   ],
   "source": [
    "import joblib\n",
    "\n",
    "# save the trained model\n",
    "joblib.dump(model, '../models/model.joblib')\n",
    "\n",
    "# save the encoders and scalers\n",
    "joblib.dump(encoder, '../models/encoder.joblib')\n",
    "joblib.dump(scaler, '../models/scaler.joblib')"
   ]
  },
  {
   "cell_type": "code",
   "execution_count": 4,
   "id": "3ff5791c",
   "metadata": {},
   "outputs": [],
   "source": [
    "# load the trained model\n",
    "model = joblib.load('../models/model.joblib')\n",
    "\n",
    "# load the encoders and scalers\n",
    "encoder = joblib.load('../models/encoder.joblib')\n",
    "scaler = joblib.load('../models/scaler.joblib')\n"
   ]
  },
  {
   "cell_type": "code",
   "execution_count": 5,
   "id": "97bd5aef",
   "metadata": {},
   "outputs": [
    {
     "name": "stdout",
     "output_type": "stream",
     "text": [
      "        Id      SalePrice\n",
      "0     1461   88264.412487\n",
      "1     1462  150444.449707\n",
      "2     1463  195167.824024\n",
      "3     1464  191164.750248\n",
      "4     1465  259253.127389\n",
      "...    ...            ...\n",
      "1454  2915   97091.343512\n",
      "1455  2916   97067.749089\n",
      "1456  2917  154777.704068\n",
      "1457  2918  130722.184022\n",
      "1458  2919  206036.980274\n",
      "\n",
      "[1459 rows x 2 columns]\n"
     ]
    }
   ],
   "source": [
    "###model inference\n",
    "test_data = pd.read_csv('/Users/admin-20218/Downloads/house-prices-advanced-regression-techniques/test.csv')\n",
    "X_test = test_data.drop(\"Id\", axis=1)\n",
    "\n",
    "X_test[continuous_features] = scaler.transform(X_test[continuous_features])\n",
    "X_test_processed = encoder.transform(X_test[categorical_features])\n",
    "\n",
    "# Model predictions on the test set\n",
    "predictions = model.predict(np.hstack((X_test[continuous_features], X_test_processed.toarray())))\n",
    "#y_pred = model.predict(np.hstack((X_test[continuous_features], X_test_processed.toarray())))\n",
    "\n",
    "# Model evaluation\n",
    "output = pd.DataFrame({\"Id\": test_data[\"Id\"], \"SalePrice\": predictions})\n",
    "print(output)\n",
    "#joblib.dump(output)\n",
    "#joblib.dump(output, '../models/model.joblib')"
   ]
  },
  {
   "cell_type": "code",
   "execution_count": null,
   "id": "12319238",
   "metadata": {},
   "outputs": [],
   "source": []
  }
 ],
 "metadata": {
  "kernelspec": {
   "display_name": "Python 3 (ipykernel)",
   "language": "python",
   "name": "python3"
  },
  "language_info": {
   "codemirror_mode": {
    "name": "ipython",
    "version": 3
   },
   "file_extension": ".py",
   "mimetype": "text/x-python",
   "name": "python",
   "nbconvert_exporter": "python",
   "pygments_lexer": "ipython3",
   "version": "3.10.8"
  }
 },
 "nbformat": 4,
 "nbformat_minor": 5
}
